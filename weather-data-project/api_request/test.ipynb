{
 "cells": [
  {
   "cell_type": "code",
   "execution_count": 3,
   "id": "96f9f198",
   "metadata": {},
   "outputs": [
    {
     "data": {
      "text/plain": [
       "{'request': {'type': 'City',\n",
       "  'query': 'Saint Louis, United States of America',\n",
       "  'language': 'en',\n",
       "  'unit': 'm'},\n",
       " 'location': {'name': 'Saint Louis',\n",
       "  'country': 'United States of America',\n",
       "  'region': 'Missouri',\n",
       "  'lat': '38.627',\n",
       "  'lon': '-90.198',\n",
       "  'timezone_id': 'America/Chicago',\n",
       "  'localtime': '2025-07-15 23:19',\n",
       "  'localtime_epoch': 1752621540,\n",
       "  'utc_offset': '-5.0'},\n",
       " 'current': {'observation_time': '04:19 AM',\n",
       "  'temperature': 25,\n",
       "  'weather_code': 113,\n",
       "  'weather_icons': ['https://cdn.worldweatheronline.com/images/wsymbols01_png_64/wsymbol_0008_clear_sky_night.png'],\n",
       "  'weather_descriptions': ['Clear '],\n",
       "  'astro': {'sunrise': '05:49 AM',\n",
       "   'sunset': '08:24 PM',\n",
       "   'moonrise': '11:20 PM',\n",
       "   'moonset': '10:49 AM',\n",
       "   'moon_phase': 'Waning Gibbous',\n",
       "   'moon_illumination': 82},\n",
       "  'air_quality': {'co': '382.95',\n",
       "   'no2': '24.975',\n",
       "   'o3': '21',\n",
       "   'so2': '4.81',\n",
       "   'pm2_5': '12.765',\n",
       "   'pm10': '12.765',\n",
       "   'us-epa-index': '1',\n",
       "   'gb-defra-index': '1'},\n",
       "  'wind_speed': 9,\n",
       "  'wind_degree': 219,\n",
       "  'wind_dir': 'SW',\n",
       "  'pressure': 1013,\n",
       "  'precip': 0,\n",
       "  'humidity': 88,\n",
       "  'cloudcover': 0,\n",
       "  'feelslike': 28,\n",
       "  'uv_index': 0,\n",
       "  'visibility': 16,\n",
       "  'is_day': 'no'}}"
      ]
     },
     "execution_count": 3,
     "metadata": {},
     "output_type": "execute_result"
    }
   ],
   "source": [
    "from api_request import mock_fetch_data\n",
    "import pandas as pd\n",
    "\n",
    "data = mock_fetch_data()\n",
    "\n",
    "data"
   ]
  },
  {
   "cell_type": "code",
   "execution_count": 1,
   "id": "3ed037ea",
   "metadata": {},
   "outputs": [
    {
     "name": "stdout",
     "output_type": "stream",
     "text": [
      "Wearther data fetched successfully!\n"
     ]
    },
    {
     "data": {
      "text/plain": [
       "{'success': False,\n",
       " 'error': {'code': 101,\n",
       "  'type': 'missing_access_key',\n",
       "  'info': 'You have not supplied an API Access Key. [Required format: access_key=YOUR_ACCESS_KEY]'}}"
      ]
     },
     "execution_count": 1,
     "metadata": {},
     "output_type": "execute_result"
    }
   ],
   "source": [
    "from api_request import fetch_data\n",
    "import pandas as pd\n",
    "\n",
    "data = fetch_data()\n",
    "\n",
    "data"
   ]
  },
  {
   "cell_type": "code",
   "execution_count": 6,
   "id": "e07b2eac",
   "metadata": {},
   "outputs": [],
   "source": [
    "df = pd.json_normalize(data)"
   ]
  },
  {
   "cell_type": "code",
   "execution_count": 7,
   "id": "da53d618",
   "metadata": {},
   "outputs": [
    {
     "data": {
      "text/html": [
       "<div>\n",
       "<style scoped>\n",
       "    .dataframe tbody tr th:only-of-type {\n",
       "        vertical-align: middle;\n",
       "    }\n",
       "\n",
       "    .dataframe tbody tr th {\n",
       "        vertical-align: top;\n",
       "    }\n",
       "\n",
       "    .dataframe thead th {\n",
       "        text-align: right;\n",
       "    }\n",
       "</style>\n",
       "<table border=\"1\" class=\"dataframe\">\n",
       "  <thead>\n",
       "    <tr style=\"text-align: right;\">\n",
       "      <th></th>\n",
       "      <th>request.type</th>\n",
       "      <th>request.query</th>\n",
       "      <th>request.language</th>\n",
       "      <th>request.unit</th>\n",
       "      <th>location.name</th>\n",
       "      <th>location.country</th>\n",
       "      <th>location.region</th>\n",
       "      <th>location.lat</th>\n",
       "      <th>location.lon</th>\n",
       "      <th>location.timezone_id</th>\n",
       "      <th>...</th>\n",
       "      <th>current.wind_degree</th>\n",
       "      <th>current.wind_dir</th>\n",
       "      <th>current.pressure</th>\n",
       "      <th>current.precip</th>\n",
       "      <th>current.humidity</th>\n",
       "      <th>current.cloudcover</th>\n",
       "      <th>current.feelslike</th>\n",
       "      <th>current.uv_index</th>\n",
       "      <th>current.visibility</th>\n",
       "      <th>current.is_day</th>\n",
       "    </tr>\n",
       "  </thead>\n",
       "  <tbody>\n",
       "    <tr>\n",
       "      <th>0</th>\n",
       "      <td>City</td>\n",
       "      <td>Saint Louis, United States of America</td>\n",
       "      <td>en</td>\n",
       "      <td>m</td>\n",
       "      <td>Saint Louis</td>\n",
       "      <td>United States of America</td>\n",
       "      <td>Missouri</td>\n",
       "      <td>38.627</td>\n",
       "      <td>-90.198</td>\n",
       "      <td>America/Chicago</td>\n",
       "      <td>...</td>\n",
       "      <td>219</td>\n",
       "      <td>SW</td>\n",
       "      <td>1013</td>\n",
       "      <td>0</td>\n",
       "      <td>88</td>\n",
       "      <td>0</td>\n",
       "      <td>28</td>\n",
       "      <td>0</td>\n",
       "      <td>16</td>\n",
       "      <td>no</td>\n",
       "    </tr>\n",
       "  </tbody>\n",
       "</table>\n",
       "<p>1 rows × 43 columns</p>\n",
       "</div>"
      ],
      "text/plain": [
       "  request.type                          request.query request.language  \\\n",
       "0         City  Saint Louis, United States of America               en   \n",
       "\n",
       "  request.unit location.name          location.country location.region  \\\n",
       "0            m   Saint Louis  United States of America        Missouri   \n",
       "\n",
       "  location.lat location.lon location.timezone_id  ... current.wind_degree  \\\n",
       "0       38.627      -90.198      America/Chicago  ...                 219   \n",
       "\n",
       "   current.wind_dir current.pressure current.precip  current.humidity  \\\n",
       "0                SW             1013              0                88   \n",
       "\n",
       "   current.cloudcover current.feelslike current.uv_index current.visibility  \\\n",
       "0                   0                28                0                 16   \n",
       "\n",
       "  current.is_day  \n",
       "0             no  \n",
       "\n",
       "[1 rows x 43 columns]"
      ]
     },
     "execution_count": 7,
     "metadata": {},
     "output_type": "execute_result"
    }
   ],
   "source": [
    "df"
   ]
  },
  {
   "cell_type": "code",
   "execution_count": 1,
   "id": "189599c0",
   "metadata": {},
   "outputs": [
    {
     "name": "stdout",
     "output_type": "stream",
     "text": [
      "Index(['request.type', 'request.query', 'request.language', 'request.unit',\n",
      "       'location.name', 'location.country', 'location.region', 'location.lat',\n",
      "       'location.lon', 'location.timezone_id', 'location.localtime',\n",
      "       'location.localtime_epoch', 'location.utc_offset',\n",
      "       'current.observation_time', 'current.temperature',\n",
      "       'current.weather_code', 'current.weather_icons',\n",
      "       'current.weather_descriptions', 'current.astro.sunrise',\n",
      "       'current.astro.sunset', 'current.astro.moonrise',\n",
      "       'current.astro.moonset', 'current.astro.moon_phase',\n",
      "       'current.astro.moon_illumination', 'current.air_quality.co',\n",
      "       'current.air_quality.no2', 'current.air_quality.o3',\n",
      "       'current.air_quality.so2', 'current.air_quality.pm2_5',\n",
      "       'current.air_quality.pm10', 'current.air_quality.us-epa-index',\n",
      "       'current.air_quality.gb-defra-index', 'current.wind_speed',\n",
      "       'current.wind_degree', 'current.wind_dir', 'current.pressure',\n",
      "       'current.precip', 'current.humidity', 'current.cloudcover',\n",
      "       'current.feelslike', 'current.uv_index', 'current.visibility',\n",
      "       'current.is_day'],\n",
      "      dtype='object')\n"
     ]
    }
   ],
   "source": [
    "from api_request import mock_fetch_data\n",
    "from data_transform import clean_weather_data\n",
    "from data_load import upload_to_s3"
   ]
  },
  {
   "cell_type": "code",
   "execution_count": 5,
   "id": "2bf5e44e",
   "metadata": {},
   "outputs": [
    {
     "name": "stdout",
     "output_type": "stream",
     "text": [
      "Wearther data fetched successfully!\n"
     ]
    }
   ],
   "source": [
    "import requests\n",
    "\n",
    "access_key = \"d3591b4cfbf5d6d3f690875b47d40d49\"\n",
    "City = \"St. Louis\"\n",
    "api_url = f\"http://api.weatherstack.com/current?access_key={access_key}&query={City}\"\n",
    "response =requests.get(api_url)\n",
    "response.raise_for_status()\n",
    "print(\"Wearther data fetched successfully!\")  \n",
    "raw_data = response.json()"
   ]
  },
  {
   "cell_type": "code",
   "execution_count": 6,
   "id": "76dd3d6e",
   "metadata": {},
   "outputs": [
    {
     "data": {
      "text/plain": [
       "{'request': {'type': 'City',\n",
       "  'query': 'Saint Louis, United States of America',\n",
       "  'language': 'en',\n",
       "  'unit': 'm'},\n",
       " 'location': {'name': 'Saint Louis',\n",
       "  'country': 'United States of America',\n",
       "  'region': 'Missouri',\n",
       "  'lat': '38.627',\n",
       "  'lon': '-90.198',\n",
       "  'timezone_id': 'America/Chicago',\n",
       "  'localtime': '2025-07-21 21:43',\n",
       "  'localtime_epoch': 1753134180,\n",
       "  'utc_offset': '-5.0'},\n",
       " 'current': {'observation_time': '02:43 AM',\n",
       "  'temperature': 26,\n",
       "  'weather_code': 113,\n",
       "  'weather_icons': ['https://cdn.worldweatheronline.com/images/wsymbols01_png_64/wsymbol_0008_clear_sky_night.png'],\n",
       "  'weather_descriptions': ['Clear '],\n",
       "  'astro': {'sunrise': '05:54 AM',\n",
       "   'sunset': '08:20 PM',\n",
       "   'moonrise': '02:08 AM',\n",
       "   'moonset': '06:06 PM',\n",
       "   'moon_phase': 'Waning Crescent',\n",
       "   'moon_illumination': 18},\n",
       "  'air_quality': {'co': '423.65',\n",
       "   'no2': '21.83',\n",
       "   'o3': '61',\n",
       "   'so2': '1.11',\n",
       "   'pm2_5': '7.77',\n",
       "   'pm10': '8.14',\n",
       "   'us-epa-index': '1',\n",
       "   'gb-defra-index': '1'},\n",
       "  'wind_speed': 10,\n",
       "  'wind_degree': 116,\n",
       "  'wind_dir': 'ESE',\n",
       "  'pressure': 1015,\n",
       "  'precip': 0,\n",
       "  'humidity': 88,\n",
       "  'cloudcover': 0,\n",
       "  'feelslike': 30,\n",
       "  'uv_index': 0,\n",
       "  'visibility': 16,\n",
       "  'is_day': 'no'}}"
      ]
     },
     "execution_count": 6,
     "metadata": {},
     "output_type": "execute_result"
    }
   ],
   "source": [
    "raw_data"
   ]
  },
  {
   "cell_type": "code",
   "execution_count": 4,
   "id": "d0987abc",
   "metadata": {},
   "outputs": [
    {
     "data": {
      "text/plain": [
       "<Response [200]>"
      ]
     },
     "execution_count": 4,
     "metadata": {},
     "output_type": "execute_result"
    }
   ],
   "source": [
    "response"
   ]
  },
  {
   "cell_type": "code",
   "execution_count": null,
   "id": "100f9250",
   "metadata": {},
   "outputs": [],
   "source": []
  }
 ],
 "metadata": {
  "kernelspec": {
   "display_name": "Python 3",
   "language": "python",
   "name": "python3"
  },
  "language_info": {
   "codemirror_mode": {
    "name": "ipython",
    "version": 3
   },
   "file_extension": ".py",
   "mimetype": "text/x-python",
   "name": "python",
   "nbconvert_exporter": "python",
   "pygments_lexer": "ipython3",
   "version": "3.12.5"
  }
 },
 "nbformat": 4,
 "nbformat_minor": 5
}
